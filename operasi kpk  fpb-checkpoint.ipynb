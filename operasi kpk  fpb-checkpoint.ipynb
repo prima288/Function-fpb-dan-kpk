{
 "cells": [
  {
   "cell_type": "code",
   "execution_count": 1,
   "id": "352160e5",
   "metadata": {},
   "outputs": [
    {
     "name": "stdout",
     "output_type": "stream",
     "text": [
      "Masukkan angka pertama :20\n",
      "Masukkan angka kedua   :35\n",
      "FPB dari  20  dan  35  adalah  5\n",
      "KPK dari  20  dan  35  adalah  140 \n",
      "\n"
     ]
    }
   ],
   "source": [
    "def fpb(a,b):\n",
    "    if a<b:\n",
    "        smaller=a\n",
    "    else:\n",
    "        smaller=b\n",
    "    for i in range (1,smaller+1):\n",
    "        if a%i==0 and b%i==0:\n",
    "            fpb=i\n",
    "        # else:\n",
    "        #     continue\n",
    "    return fpb\n",
    "\n",
    "def kpk(a,b):\n",
    "    kpk=int(a*b/fpb(a,b))\n",
    "    return kpk\n",
    "\n",
    "a=int(input('Masukkan angka pertama :'))\n",
    "b=int(input('Masukkan angka kedua   :'))\n",
    "\n",
    "print('FPB dari ',a,' dan ',b,' adalah ',fpb(a,b))\n",
    "print('KPK dari ',a,' dan ',b,' adalah ',kpk(a,b),'\\n')"
   ]
  },
  {
   "cell_type": "code",
   "execution_count": null,
   "id": "e2ee1a89",
   "metadata": {},
   "outputs": [],
   "source": []
  }
 ],
 "metadata": {
  "kernelspec": {
   "display_name": "Python 3 (ipykernel)",
   "language": "python",
   "name": "python3"
  },
  "language_info": {
   "codemirror_mode": {
    "name": "ipython",
    "version": 3
   },
   "file_extension": ".py",
   "mimetype": "text/x-python",
   "name": "python",
   "nbconvert_exporter": "python",
   "pygments_lexer": "ipython3",
   "version": "3.9.12"
  }
 },
 "nbformat": 4,
 "nbformat_minor": 5
}
